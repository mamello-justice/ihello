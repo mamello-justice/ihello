{
 "cells": [
  {
   "cell_type": "code",
   "execution_count": 1,
   "id": "3401136b-3c03-4151-9ffe-f5e727a17b82",
   "metadata": {},
   "outputs": [
    {
     "name": "stdout",
     "output_type": "stream",
     "text": [
      "Hello, Javascript\n"
     ]
    }
   ],
   "source": [
    "console.log(\"Hello, Javascript\")"
   ]
  }
 ],
 "metadata": {
  "kernelspec": {
   "display_name": "JavaScript (Node.js)",
   "language": "javascript",
   "name": "javascript"
  },
  "language_info": {
   "file_extension": ".js",
   "mimetype": "application/javascript",
   "name": "javascript",
   "version": "20.2.0"
  }
 },
 "nbformat": 4,
 "nbformat_minor": 5
}
